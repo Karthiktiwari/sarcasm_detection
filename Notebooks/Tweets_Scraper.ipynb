{
 "cells": [
  {
   "cell_type": "code",
   "execution_count": 1,
   "metadata": {},
   "outputs": [],
   "source": [
    "import tweepy\n",
    "from tqdm import tqdm"
   ]
  },
  {
   "cell_type": "code",
   "execution_count": 2,
   "metadata": {},
   "outputs": [],
   "source": [
    "auth = tweepy.AppAuthHandler('SWdWp2dNXjPBxNGA4WAIvdziN', 'spgSDI4OPD7FCBt2TrdP0lKxlyui5z0h6PRCebL28e5wcb1Crd')"
   ]
  },
  {
   "cell_type": "code",
   "execution_count": 3,
   "metadata": {},
   "outputs": [],
   "source": [
    "client = tweepy.Client(bearer_token='AAAAAAAAAAAAAAAAAAAAAOVVVQEAAAAAhmny%2Fd59Dr%2FrRZRblZxZ8JUks94%3DGHoOyU7zGFWmeJzGpqqXjMEF9H7pAgc1PV1hJOOanGHxul8lQI', wait_on_rate_limit=True)"
   ]
  },
  {
   "cell_type": "code",
   "execution_count": 4,
   "metadata": {},
   "outputs": [],
   "source": [
    "import pandas as pd\n",
    "data = pd.read_csv('/home/karthiktiwari/Documents/Projects/Sarcasm_Detection/Dataset/Sarcasm_dataset.csv')"
   ]
  },
  {
   "cell_type": "code",
   "execution_count": 5,
   "metadata": {},
   "outputs": [],
   "source": [
    "sample_id = data.tweet_id[0]"
   ]
  },
  {
   "cell_type": "code",
   "execution_count": 6,
   "metadata": {},
   "outputs": [
    {
     "data": {
      "text/plain": [
       "'LOL ! \\nBC badaa gaandu hai to !\\nso jaa lodu ! Tere se kuch nahi hoga\\n@FanSalmanfan7'"
      ]
     },
     "execution_count": 6,
     "metadata": {},
     "output_type": "execute_result"
    }
   ],
   "source": [
    "client.get_tweet(id=sample_id)[0].text"
   ]
  },
  {
   "cell_type": "code",
   "execution_count": 7,
   "metadata": {},
   "outputs": [
    {
     "name": "stderr",
     "output_type": "stream",
     "text": [
      "  1%|          | 899/108241 [04:57<9:33:11,  3.12it/s]Rate limit exceeded. Sleeping for 603 seconds.\n",
      "  2%|▏         | 1799/108241 [20:31<9:50:09,  3.01it/s] Rate limit exceeded. Sleeping for 570 seconds.\n",
      "  2%|▏         | 2699/108241 [39:20<18:32:11,  1.58it/s]Rate limit exceeded. Sleeping for 343 seconds.\n",
      "  3%|▎         | 3599/108241 [50:33<10:28:22,  2.78it/s]Rate limit exceeded. Sleeping for 572 seconds.\n",
      "  4%|▍         | 4499/108241 [1:08:14<15:19:45,  1.88it/s]Rate limit exceeded. Sleeping for 413 seconds.\n",
      "  5%|▍         | 5399/108241 [1:20:32<9:13:41,  3.10it/s]Rate limit exceeded. Sleeping for 576 seconds.\n",
      "  6%|▌         | 6299/108241 [1:35:08<9:01:08,  3.14it/s]Rate limit exceeded. Sleeping for 601 seconds.\n",
      "  7%|▋         | 7199/108241 [1:52:51<14:28:32,  1.94it/s]Rate limit exceeded. Sleeping for 439 seconds.\n",
      "  7%|▋         | 8099/108241 [2:07:50<14:14:32,  1.95it/s]Rate limit exceeded. Sleeping for 442 seconds.\n",
      "  8%|▊         | 8999/108241 [2:22:56<14:04:56,  1.96it/s]Rate limit exceeded. Sleeping for 438 seconds.\n",
      "  9%|▉         | 9899/108241 [2:34:55<8:41:19,  3.14it/s]Rate limit exceeded. Sleeping for 620 seconds.\n",
      " 10%|▉         | 10799/108241 [2:50:09<8:20:10,  3.25it/s]Rate limit exceeded. Sleeping for 607 seconds.\n",
      " 11%|█         | 11699/108241 [3:07:59<11:53:43,  2.25it/s]Rate limit exceeded. Sleeping for 439 seconds.\n",
      " 12%|█▏        | 12599/108241 [3:23:57<14:50:28,  1.79it/s]Rate limit exceeded. Sleeping for 383 seconds.\n",
      " 12%|█▏        | 13499/108241 [3:35:28<8:08:46,  3.23it/s]Rate limit exceeded. Sleeping for 594 seconds.\n",
      " 13%|█▎        | 14399/108241 [3:53:32<11:58:47,  2.18it/s]Rate limit exceeded. Sleeping for 412 seconds.\n",
      " 14%|█▍        | 15299/108241 [4:09:18<15:39:36,  1.65it/s]Rate limit exceeded. Sleeping for 368 seconds.\n",
      " 15%|█▍        | 16199/108241 [4:23:07<13:10:33,  1.94it/s]Rate limit exceeded. Sleeping for 441 seconds.\n",
      " 16%|█▌        | 17099/108241 [4:40:23<7:46:34,  3.26it/s]Rate limit exceeded. Sleeping for 306 seconds.\n",
      " 17%|█▋        | 17999/108241 [4:50:27<9:31:46,  2.63it/s]Rate limit exceeded. Sleeping for 604 seconds.\n",
      " 17%|█▋        | 18899/108241 [5:08:56<12:43:32,  1.95it/s]Rate limit exceeded. Sleeping for 402 seconds.\n",
      " 18%|█▊        | 19799/108241 [5:20:23<7:34:11,  3.25it/s]Rate limit exceeded. Sleeping for 617 seconds.\n",
      " 19%|█▉        | 20699/108241 [5:38:41<12:30:29,  1.94it/s]Rate limit exceeded. Sleeping for 421 seconds.\n",
      " 20%|█▉        | 21599/108241 [5:49:43<6:50:11,  3.52it/s]Rate limit exceeded. Sleeping for 661 seconds.\n",
      " 21%|██        | 22499/108241 [6:04:44<6:12:08,  3.84it/s]Rate limit exceeded. Sleeping for 661 seconds.\n",
      " 22%|██▏       | 23399/108241 [6:20:26<7:14:54,  3.25it/s]Rate limit exceeded. Sleeping for 620 seconds.\n",
      " 22%|██▏       | 24299/108241 [6:35:27<7:42:41,  3.02it/s]Rate limit exceeded. Sleeping for 620 seconds.\n",
      " 23%|██▎       | 25199/108241 [6:50:29<7:18:25,  3.16it/s]Rate limit exceeded. Sleeping for 620 seconds.\n",
      " 24%|██▍       | 26099/108241 [7:08:30<11:39:10,  1.96it/s]Rate limit exceeded. Sleeping for 440 seconds.\n",
      " 25%|██▍       | 26999/108241 [7:24:55<13:38:57,  1.65it/s]Rate limit exceeded. Sleeping for 357 seconds.\n",
      " 26%|██▌       | 27899/108241 [7:38:35<10:56:05,  2.04it/s]Rate limit exceeded. Sleeping for 438 seconds.\n",
      " 27%|██▋       | 28799/108241 [7:50:35<6:58:53,  3.16it/s]Rate limit exceeded. Sleeping for 620 seconds.\n",
      " 27%|██▋       | 29699/108241 [8:08:38<11:10:36,  1.95it/s]Rate limit exceeded. Sleeping for 439 seconds.\n",
      " 28%|██▊       | 30599/108241 [8:24:34<11:40:20,  1.85it/s]Rate limit exceeded. Sleeping for 385 seconds.\n",
      " 29%|██▉       | 31499/108241 [8:38:40<10:55:14,  1.95it/s]Rate limit exceeded. Sleeping for 441 seconds.\n",
      " 30%|██▉       | 32399/108241 [8:53:42<10:47:01,  1.95it/s]Rate limit exceeded. Sleeping for 441 seconds.\n",
      " 31%|███       | 33299/108241 [9:05:43<6:23:23,  3.26it/s]Rate limit exceeded. Sleeping for 622 seconds.\n",
      " 32%|███▏      | 34199/108241 [9:23:47<10:31:58,  1.95it/s]Rate limit exceeded. Sleeping for 440 seconds.\n",
      " 32%|███▏      | 35099/108241 [9:38:51<10:24:32,  1.95it/s]Rate limit exceeded. Sleeping for 438 seconds.\n",
      " 33%|███▎      | 35999/108241 [9:55:05<11:37:24,  1.73it/s]Rate limit exceeded. Sleeping for 366 seconds.\n",
      " 34%|███▍      | 36899/108241 [10:08:55<9:54:24,  2.00it/s]Rate limit exceeded. Sleeping for 438 seconds.\n",
      " 35%|███▍      | 37799/108241 [10:24:38<10:59:36,  1.78it/s]Rate limit exceeded. Sleeping for 397 seconds.\n",
      " 36%|███▌      | 38699/108241 [10:35:56<5:54:51,  3.27it/s]Rate limit exceeded. Sleeping for 621 seconds.\n",
      " 37%|███▋      | 39599/108241 [10:51:01<5:59:10,  3.19it/s]Rate limit exceeded. Sleeping for 617 seconds.\n",
      " 37%|███▋      | 40499/108241 [11:06:00<6:14:33,  3.01it/s]Rate limit exceeded. Sleeping for 620 seconds.\n",
      " 38%|███▊      | 41399/108241 [11:21:02<5:49:47,  3.18it/s]Rate limit exceeded. Sleeping for 620 seconds.\n",
      " 39%|███▉      | 42299/108241 [11:39:06<9:23:28,  1.95it/s]Rate limit exceeded. Sleeping for 437 seconds.\n",
      " 40%|███▉      | 43207/108241 [12:07:57<5:32:36,  3.26it/s]Rate limit exceeded. Sleeping for 621 seconds.\n",
      " 41%|████      | 44107/108241 [12:22:59<5:29:25,  3.24it/s]Rate limit exceeded. Sleeping for 621 seconds.\n",
      " 42%|████▏     | 45007/108241 [12:41:02<8:57:36,  1.96it/s]Rate limit exceeded. Sleeping for 440 seconds.\n",
      " 42%|████▏     | 45907/108241 [12:53:00<5:18:50,  3.26it/s]Rate limit exceeded. Sleeping for 623 seconds.\n",
      " 43%|████▎     | 46807/108241 [13:08:03<5:14:05,  3.26it/s]Rate limit exceeded. Sleeping for 622 seconds.\n",
      " 44%|████▍     | 47707/108241 [13:26:08<8:36:41,  1.95it/s]Rate limit exceeded. Sleeping for 439 seconds.\n",
      " 45%|████▍     | 48607/108241 [13:41:09<8:28:51,  1.95it/s]Rate limit exceeded. Sleeping for 440 seconds.\n",
      " 46%|████▌     | 49507/108241 [13:53:11<5:00:30,  3.26it/s]Rate limit exceeded. Sleeping for 619 seconds.\n",
      " 47%|████▋     | 50407/108241 [14:11:14<8:13:00,  1.96it/s]Rate limit exceeded. Sleeping for 438 seconds.\n",
      " 47%|████▋     | 51307/108241 [14:23:12<4:54:00,  3.23it/s]Rate limit exceeded. Sleeping for 622 seconds.\n",
      " 48%|████▊     | 52207/108241 [14:41:16<7:58:08,  1.95it/s]Rate limit exceeded. Sleeping for 440 seconds.\n",
      " 49%|████▉     | 53107/108241 [14:56:20<7:25:05,  2.06it/s]Rate limit exceeded. Sleeping for 438 seconds.\n",
      " 50%|████▉     | 54007/108241 [15:12:07<8:55:10,  1.69it/s]Rate limit exceeded. Sleeping for 393 seconds.\n",
      " 51%|█████     | 54907/108241 [15:23:21<4:33:07,  3.25it/s]Rate limit exceeded. Sleeping for 620 seconds.\n",
      " 52%|█████▏    | 55807/108241 [15:41:24<7:27:41,  1.95it/s]Rate limit exceeded. Sleeping for 439 seconds.\n",
      " 52%|█████▏    | 56707/108241 [15:56:22<6:51:55,  2.09it/s]Rate limit exceeded. Sleeping for 442 seconds.\n",
      " 53%|█████▎    | 57607/108241 [16:11:29<7:12:14,  1.95it/s]Rate limit exceeded. Sleeping for 437 seconds.\n",
      " 54%|█████▍    | 58507/108241 [16:23:27<4:14:44,  3.25it/s]Rate limit exceeded. Sleeping for 620 seconds.\n",
      " 55%|█████▍    | 59407/108241 [16:38:27<4:09:44,  3.26it/s]Rate limit exceeded. Sleeping for 621 seconds.\n",
      " 56%|█████▌    | 60307/108241 [16:55:52<5:58:29,  2.23it/s]Rate limit exceeded. Sleeping for 478 seconds.\n",
      " 57%|█████▋    | 61207/108241 [17:07:59<3:38:22,  3.59it/s]Rate limit exceeded. Sleeping for 652 seconds.\n",
      " 57%|█████▋    | 62107/108241 [17:22:59<3:32:43,  3.61it/s]Rate limit exceeded. Sleeping for 653 seconds.\n",
      " 58%|█████▊    | 63007/108241 [17:40:50<6:06:20,  2.06it/s]Rate limit exceeded. Sleeping for 484 seconds.\n",
      " 59%|█████▉    | 63907/108241 [17:53:34<3:47:13,  3.25it/s]Rate limit exceeded. Sleeping for 622 seconds.\n",
      " 60%|█████▉    | 64807/108241 [18:08:35<3:42:37,  3.25it/s]Rate limit exceeded. Sleeping for 622 seconds.\n",
      " 61%|██████    | 65707/108241 [18:26:44<6:03:04,  1.95it/s]Rate limit exceeded. Sleeping for 435 seconds.\n",
      " 62%|██████▏   | 66607/108241 [18:41:43<6:02:54,  1.91it/s]Rate limit exceeded. Sleeping for 438 seconds.\n",
      " 62%|██████▏   | 67507/108241 [18:53:39<3:28:30,  3.26it/s]Rate limit exceeded. Sleeping for 624 seconds.\n",
      " 63%|██████▎   | 68407/108241 [19:08:44<3:23:46,  3.26it/s]Rate limit exceeded. Sleeping for 621 seconds.\n",
      " 64%|██████▍   | 69307/108241 [19:27:48<6:03:17,  1.79it/s]Rate limit exceeded. Sleeping for 378 seconds.\n",
      " 65%|██████▍   | 70207/108241 [19:41:49<5:27:40,  1.93it/s]Rate limit exceeded. Sleeping for 439 seconds.\n",
      " 66%|██████▌   | 71107/108241 [19:53:49<3:13:15,  3.20it/s]Rate limit exceeded. Sleeping for 621 seconds.\n",
      " 67%|██████▋   | 72007/108241 [20:11:54<5:09:15,  1.95it/s]Rate limit exceeded. Sleeping for 437 seconds.\n",
      " 67%|██████▋   | 72907/108241 [20:28:14<5:53:19,  1.67it/s]Rate limit exceeded. Sleeping for 359 seconds.\n",
      " 68%|██████▊   | 73807/108241 [20:38:55<2:58:12,  3.22it/s]Rate limit exceeded. Sleeping for 620 seconds.\n",
      " 69%|██████▉   | 74707/108241 [20:53:58<2:51:47,  3.25it/s]Rate limit exceeded. Sleeping for 619 seconds.\n",
      " 70%|██████▉   | 75607/108241 [21:08:59<2:46:58,  3.26it/s]Rate limit exceeded. Sleeping for 619 seconds.\n"
     ]
    }
   ],
   "source": [
    "for idx in tqdm(data.index):\n",
    "    id = data.loc[idx, 'tweet_id']\n",
    "    try:\n",
    "        data.loc[idx, 'tweet'] = client.get_tweet(id=id)[0].text\n",
    "    except:\n",
    "        continue"
   ]
  },
  {
   "cell_type": "code",
   "execution_count": null,
   "metadata": {},
   "outputs": [],
   "source": [
    "data.to_csv('dataset.csv')"
   ]
  }
 ],
 "metadata": {
  "interpreter": {
   "hash": "916dbcbb3f70747c44a77c7bcd40155683ae19c65e1c03b4aa3499c5328201f1"
  },
  "kernelspec": {
   "display_name": "Python 3.9.5 64-bit",
   "name": "python3"
  },
  "language_info": {
   "codemirror_mode": {
    "name": "ipython",
    "version": 3
   },
   "file_extension": ".py",
   "mimetype": "text/x-python",
   "name": "python",
   "nbconvert_exporter": "python",
   "pygments_lexer": "ipython3",
   "version": "3.9.5"
  },
  "orig_nbformat": 4
 },
 "nbformat": 4,
 "nbformat_minor": 2
}
