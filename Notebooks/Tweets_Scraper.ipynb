{
 "cells": [
  {
   "cell_type": "code",
   "execution_count": 1,
   "metadata": {},
   "outputs": [],
   "source": [
    "import tweepy\n",
    "import pandas as pd\n",
    "from tqdm import tqdm\n",
    "import os\n",
    "import random"
   ]
  },
  {
   "cell_type": "code",
   "execution_count": 2,
   "metadata": {},
   "outputs": [],
   "source": [
    "auth = tweepy.AppAuthHandler('SWdWp2dNXjPBxNGA4WAIvdziN', 'spgSDI4OPD7FCBt2TrdP0lKxlyui5z0h6PRCebL28e5wcb1Crd')"
   ]
  },
  {
   "cell_type": "code",
   "execution_count": 3,
   "metadata": {},
   "outputs": [],
   "source": [
    "client = tweepy.Client(bearer_token='AAAAAAAAAAAAAAAAAAAAAOVVVQEAAAAAhmny%2Fd59Dr%2FrRZRblZxZ8JUks94%3DGHoOyU7zGFWmeJzGpqqXjMEF9H7pAgc1PV1hJOOanGHxul8lQI', wait_on_rate_limit=True)"
   ]
  },
  {
   "cell_type": "code",
   "execution_count": 4,
   "metadata": {},
   "outputs": [],
   "source": [
    "data = pd.read_csv('/home/karthiktiwari/Documents/Projects/Sarcasm_Detection/Dataset/Sarcasm_dataset.csv')"
   ]
  },
  {
   "cell_type": "code",
   "execution_count": 5,
   "metadata": {},
   "outputs": [],
   "source": [
    "sample_id = data.tweet_id[0]"
   ]
  },
  {
   "cell_type": "code",
   "execution_count": 6,
   "metadata": {},
   "outputs": [
    {
     "data": {
      "text/plain": [
       "'LOL ! \\nBC badaa gaandu hai to !\\nso jaa lodu ! Tere se kuch nahi hoga\\n@FanSalmanfan7'"
      ]
     },
     "execution_count": 6,
     "metadata": {},
     "output_type": "execute_result"
    }
   ],
   "source": [
    "client.get_tweet(id=sample_id)[0].text"
   ]
  },
  {
   "cell_type": "code",
   "execution_count": 9,
   "metadata": {},
   "outputs": [
    {
     "name": "stderr",
     "output_type": "stream",
     "text": [
      "  0%|          | 299/108241 [02:26<13:14:28,  2.26it/s]Rate limit exceeded. Sleeping for 568 seconds.\n"
     ]
    }
   ],
   "source": [
    "err_ids = []\n",
    "for idx in tqdm(data.index):\n",
    "    id = data.loc[idx, 'tweet_id']\n",
    "    try:\n",
    "        path = os.path.join('/home/karthiktiwari/Data/Sarcasm Detection', str(id)+'.txt')\n",
    "        if not os.path.exists(path):\n",
    "            with open(path, 'w') as txt:\n",
    "                    txt.write(client.get_tweet(id=id)[0].text)\n",
    "    except:\n",
    "        err_ids.append(id)\n",
    "        continue"
   ]
  },
  {
   "cell_type": "code",
   "execution_count": 5,
   "metadata": {},
   "outputs": [
    {
     "data": {
      "text/plain": [
       "[974568141844971520,\n",
       " 1161756728167288832,\n",
       " 15251368113,\n",
       " 1068045181172236288,\n",
       " 1162389366611881984,\n",
       " 783728599899578368,\n",
       " 1255139255027785730,\n",
       " 134657296096690177,\n",
       " 41079524024258560,\n",
       " 1045379473556803584]"
      ]
     },
     "execution_count": 5,
     "metadata": {},
     "output_type": "execute_result"
    }
   ],
   "source": [
    "with open('../err_ids.txt') as ids:\n",
    "    err_ids = [int(i) for i in ids.readlines()]\n",
    "err_ids[:10]"
   ]
  },
  {
   "cell_type": "code",
   "execution_count": 19,
   "metadata": {},
   "outputs": [
    {
     "data": {
      "text/plain": [
       "Index(['tweet_id', 'sarcastic'], dtype='object')"
      ]
     },
     "execution_count": 19,
     "metadata": {},
     "output_type": "execute_result"
    }
   ],
   "source": [
    "data.columns"
   ]
  },
  {
   "cell_type": "code",
   "execution_count": 90,
   "metadata": {},
   "outputs": [],
   "source": [
    "root = '/home/karthiktiwari/Data/Sarcasm Detection'\n",
    "empty_fn = []\n",
    "empty_id = []\n",
    "for idx,txt_file in enumerate(os.listdir(root)):\n",
    "    with open(os.path.join(root, txt_file), 'r') as tweet:\n",
    "        temp = tweet.read()\n",
    "        if len(temp)==0:\n",
    "            empty_id.append(tweet_id)\n",
    "            empty_fn.append(txt_file)\n",
    "            "
   ]
  },
  {
   "cell_type": "code",
   "execution_count": 87,
   "metadata": {},
   "outputs": [
    {
     "name": "stderr",
     "output_type": "stream",
     "text": [
      "  3%|▎         | 300/10735 [01:55<1:17:48,  2.24it/s]Rate limit exceeded. Sleeping for 786 seconds.\n",
      "  6%|▌         | 600/10735 [17:29<1:01:26,  2.75it/s]Rate limit exceeded. Sleeping for 754 seconds.\n",
      "  8%|▊         | 900/10735 [31:49<56:57,  2.88it/s]Rate limit exceeded. Sleeping for 795 seconds.\n",
      " 11%|█         | 1200/10735 [46:47<55:01,  2.89it/s]Rate limit exceeded. Sleeping for 798 seconds.\n",
      " 14%|█▍        | 1500/10735 [1:01:47<56:04,  2.75it/s]  Rate limit exceeded. Sleeping for 800 seconds.\n",
      " 17%|█▋        | 1800/10735 [1:16:51<50:12,  2.97it/s]Rate limit exceeded. Sleeping for 798 seconds.\n",
      " 20%|█▉        | 2100/10735 [1:32:29<1:05:03,  2.21it/s]Rate limit exceeded. Sleeping for 762 seconds.\n",
      " 22%|██▏       | 2400/10735 [1:47:14<56:56,  2.44it/s]Rate limit exceeded. Sleeping for 778 seconds.\n",
      " 25%|██▌       | 2700/10735 [2:02:24<59:32,  2.25it/s]  Rate limit exceeded. Sleeping for 770 seconds.\n",
      " 28%|██▊       | 3000/10735 [2:18:04<1:14:40,  1.73it/s]Rate limit exceeded. Sleeping for 731 seconds.\n",
      " 31%|███       | 3300/10735 [2:32:05<41:04,  3.02it/s]Rate limit exceeded. Sleeping for 792 seconds.\n",
      " 34%|███▎      | 3600/10735 [2:47:02<41:17,  2.88it/s]Rate limit exceeded. Sleeping for 797 seconds.\n",
      " 36%|███▋      | 3900/10735 [3:02:18<46:34,  2.45it/s]Rate limit exceeded. Sleeping for 782 seconds.\n",
      " 39%|███▉      | 4200/10735 [3:17:08<41:41,  2.61it/s]Rate limit exceeded. Sleeping for 793 seconds.\n",
      " 42%|████▏     | 4500/10735 [3:32:11<34:21,  3.02it/s]Rate limit exceeded. Sleeping for 791 seconds.\n",
      " 45%|████▍     | 4798/10735 [3:47:19<39:03,  2.53it/s]Rate limit exceeded. Sleeping for 784 seconds.\n",
      " 47%|████▋     | 5098/10735 [4:02:41<40:31,  2.32it/s]Rate limit exceeded. Sleeping for 764 seconds.\n",
      " 50%|█████     | 5398/10735 [4:17:21<33:28,  2.66it/s]Rate limit exceeded. Sleeping for 785 seconds.\n",
      " 53%|█████▎    | 5698/10735 [4:32:49<38:15,  2.19it/s]Rate limit exceeded. Sleeping for 759 seconds.\n",
      " 56%|█████▌    | 5998/10735 [4:47:15<25:27,  3.10it/s]Rate limit exceeded. Sleeping for 795 seconds.\n",
      " 59%|█████▊    | 6298/10735 [5:02:33<30:17,  2.44it/s]Rate limit exceeded. Sleeping for 778 seconds.\n",
      " 61%|██████▏   | 6598/10735 [5:17:44<31:24,  2.20it/s]Rate limit exceeded. Sleeping for 768 seconds.\n",
      " 64%|██████▍   | 6898/10735 [5:33:02<29:39,  2.16it/s]Rate limit exceeded. Sleeping for 752 seconds.\n",
      " 67%|██████▋   | 7198/10735 [5:47:17<18:06,  3.26it/s]Rate limit exceeded. Sleeping for 798 seconds.\n",
      " 70%|██████▉   | 7498/10735 [6:03:15<35:39,  1.51it/s]Rate limit exceeded. Sleeping for 742 seconds.\n",
      " 73%|███████▎  | 7798/10735 [6:17:12<15:02,  3.26it/s]Rate limit exceeded. Sleeping for 807 seconds.\n",
      " 75%|███████▌  | 8098/10735 [6:33:09<23:32,  1.87it/s]Rate limit exceeded. Sleeping for 752 seconds.\n",
      " 78%|███████▊  | 8398/10735 [6:48:13<19:06,  2.04it/s]Rate limit exceeded. Sleeping for 749 seconds.\n",
      " 81%|████████  | 8698/10735 [7:02:15<10:25,  3.25it/s]Rate limit exceeded. Sleeping for 808 seconds.\n",
      " 84%|████████▍ | 8998/10735 [7:17:17<08:53,  3.26it/s]Rate limit exceeded. Sleeping for 808 seconds.\n",
      " 87%|████████▋ | 9298/10735 [7:32:18<07:38,  3.14it/s]Rate limit exceeded. Sleeping for 808 seconds.\n",
      " 89%|████████▉ | 9598/10735 [7:48:21<09:42,  1.95it/s]Rate limit exceeded. Sleeping for 747 seconds.\n",
      " 92%|█████████▏| 9898/10735 [8:03:23<06:48,  2.05it/s]Rate limit exceeded. Sleeping for 747 seconds.\n",
      " 95%|█████████▍| 10198/10735 [8:18:25<04:34,  1.95it/s]Rate limit exceeded. Sleeping for 747 seconds.\n",
      " 98%|█████████▊| 10498/10735 [8:32:33<01:12,  3.29it/s]Rate limit exceeded. Sleeping for 800 seconds.\n",
      "100%|██████████| 10735/10735 [8:47:55<00:00,  2.95s/it]\n"
     ]
    }
   ],
   "source": [
    "err_ids = []\n",
    "for idx in tqdm(range(len(empty_fn))):\n",
    "    try:\n",
    "        filename = os.path.join('/home/karthiktiwari/Data/Sarcasm Detection', empty_fn[idx])\n",
    "        with open(filename, 'w') as txt:\n",
    "                txt.write(client.get_tweet(id=empty_id[idx])[0].text)\n",
    "    except:\n",
    "        err_ids.append(empty_id[idx])\n",
    "        continue\n",
    "        "
   ]
  },
  {
   "cell_type": "code",
   "execution_count": 89,
   "metadata": {},
   "outputs": [
    {
     "data": {
      "text/plain": [
       "1081"
      ]
     },
     "execution_count": 89,
     "metadata": {},
     "output_type": "execute_result"
    }
   ],
   "source": [
    "len(err_ids)"
   ]
  },
  {
   "cell_type": "code",
   "execution_count": 92,
   "metadata": {},
   "outputs": [
    {
     "data": {
      "text/plain": [
       "1081"
      ]
     },
     "execution_count": 92,
     "metadata": {},
     "output_type": "execute_result"
    }
   ],
   "source": [
    "len(empty_fn)"
   ]
  },
  {
   "cell_type": "code",
   "execution_count": 97,
   "metadata": {},
   "outputs": [],
   "source": [
    "err_ids = [str(i)+'\\n' for i in err_ids]\n",
    "with open('../err_ids.txt', 'w') as txtfile:\n",
    "    txtfile.writelines(err_ids)"
   ]
  },
  {
   "cell_type": "code",
   "execution_count": 102,
   "metadata": {},
   "outputs": [],
   "source": [
    "random_files = [str(random.randint(0,len(os.listdir(root))))+'.txt' for i in range(10)]"
   ]
  },
  {
   "cell_type": "code",
   "execution_count": 106,
   "metadata": {},
   "outputs": [
    {
     "name": "stdout",
     "output_type": "stream",
     "text": [
      "61984.txt dil lagaya tha dil lagi ka liya bangaya rog zindge ka liye\n",
      "\n",
      "104266.txt @kuldpvys Abe o.. Satire ka base h.. N satire bhi na maare... Irony. 😒\n",
      "\n",
      "78619.txt DEKHIYE EN KISANO KO 2019 KE LIYE APNI JMIN TAYAR KAR RHE HAI, DHARTI MA SE JURE JURE PURE HINDUSTAN SE AAYE KISANO KA HAS KAR MAZAK URA RHE HAI.. https://t.co/VmEDdBMK4u\n",
      "\n",
      "72098.txt @Immortalizeboy tu aag laga 😒 @Satire_Guru\n",
      "\n",
      "20105.txt RT Apna vyauhar hoga aise jal mein kamal rehata hai jaise Saansaarik vyavahaar tab hogaa, jab mujhe Saakshaatkaar hoga #Asaramayan #Bapuji\n",
      "\n",
      "62619.txt @cheers2wisdom @Uber_India @UberINSupport @Uber Uber bhi Indians se dukhi hai...\n",
      "🤔🤔🤔\n",
      "\n",
      "87293.txt @Sidloves1 sahi hai beta !! bahot aage ayegi😂😂\n",
      "\n",
      "54879.txt @smartdoc396 @codendecode @GauravPandhi mazak mat kara kar ! Pls !\n",
      "Modi gujarat me hi chauda ho sakta...just like mulayam\n",
      "\n",
      "79018.txt Rat ke 2:30 baje \n",
      "Koi Pyr me hsta hoga,,\n",
      "Koi Pyr me rota hoga,,\n",
      "\n",
      "Meanwhile \n",
      "Muje hi kyunn \"BHUKH\" lagti haii..🙁\n",
      "\n",
      "(Bus etneme,,, me khus hunn)\n",
      "#justforfun\n",
      "\n",
      "21651.txt She:\"Aap kahan rehte ho?\"\n",
      "Me: \"Jee,auqaat mein.\"\n",
      "#sarcasm\n",
      "\n"
     ]
    }
   ],
   "source": [
    "for f in random_files:\n",
    "    with open(os.path.join(root,f), 'r') as temp:\n",
    "        print(f,temp.read())\n",
    "    print()"
   ]
  },
  {
   "cell_type": "code",
   "execution_count": null,
   "metadata": {},
   "outputs": [],
   "source": []
  }
 ],
 "metadata": {
  "interpreter": {
   "hash": "916dbcbb3f70747c44a77c7bcd40155683ae19c65e1c03b4aa3499c5328201f1"
  },
  "kernelspec": {
   "display_name": "Python 3.9.5 64-bit",
   "name": "python3"
  },
  "language_info": {
   "codemirror_mode": {
    "name": "ipython",
    "version": 3
   },
   "file_extension": ".py",
   "mimetype": "text/x-python",
   "name": "python",
   "nbconvert_exporter": "python",
   "pygments_lexer": "ipython3",
   "version": "3.9.5"
  },
  "orig_nbformat": 4
 },
 "nbformat": 4,
 "nbformat_minor": 2
}
