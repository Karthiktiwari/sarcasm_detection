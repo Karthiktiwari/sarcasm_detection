{
 "cells": [
  {
   "cell_type": "code",
   "execution_count": 1,
   "metadata": {},
   "outputs": [],
   "source": [
    "import tweepy\n",
    "from tqdm import tqdm\n",
    "import os"
   ]
  },
  {
   "cell_type": "code",
   "execution_count": 2,
   "metadata": {},
   "outputs": [],
   "source": [
    "auth = tweepy.AppAuthHandler('SWdWp2dNXjPBxNGA4WAIvdziN', 'spgSDI4OPD7FCBt2TrdP0lKxlyui5z0h6PRCebL28e5wcb1Crd')"
   ]
  },
  {
   "cell_type": "code",
   "execution_count": 3,
   "metadata": {},
   "outputs": [],
   "source": [
    "client = tweepy.Client(bearer_token='AAAAAAAAAAAAAAAAAAAAAOVVVQEAAAAAhmny%2Fd59Dr%2FrRZRblZxZ8JUks94%3DGHoOyU7zGFWmeJzGpqqXjMEF9H7pAgc1PV1hJOOanGHxul8lQI', wait_on_rate_limit=True)"
   ]
  },
  {
   "cell_type": "code",
   "execution_count": 4,
   "metadata": {},
   "outputs": [],
   "source": [
    "import pandas as pd\n",
    "data = pd.read_csv('/home/karthiktiwari/Documents/Projects/Sarcasm_Detection/Dataset/Sarcasm_dataset.csv')"
   ]
  },
  {
   "cell_type": "code",
   "execution_count": 5,
   "metadata": {},
   "outputs": [],
   "source": [
    "sample_id = data.tweet_id[0]"
   ]
  },
  {
   "cell_type": "code",
   "execution_count": 6,
   "metadata": {},
   "outputs": [
    {
     "data": {
      "text/plain": [
       "'LOL ! \\nBC badaa gaandu hai to !\\nso jaa lodu ! Tere se kuch nahi hoga\\n@FanSalmanfan7'"
      ]
     },
     "execution_count": 6,
     "metadata": {},
     "output_type": "execute_result"
    }
   ],
   "source": [
    "client.get_tweet(id=sample_id)[0].text"
   ]
  },
  {
   "cell_type": "code",
   "execution_count": 7,
   "metadata": {},
   "outputs": [],
   "source": [
    "idx = 13564\n"
   ]
  },
  {
   "cell_type": "code",
   "execution_count": 8,
   "metadata": {},
   "outputs": [
    {
     "name": "stderr",
     "output_type": "stream",
     "text": [
      " 19%|█▊        | 20263/108241 [04:39<7:31:30,  3.25it/s]Rate limit exceeded. Sleeping for 621 seconds.\n",
      " 20%|█▉        | 21164/108241 [19:41<7:25:31,  3.26it/s]Rate limit exceeded. Sleeping for 620 seconds.\n",
      " 20%|██        | 22064/108241 [34:43<7:50:53,  3.05it/s]Rate limit exceeded. Sleeping for 619 seconds.\n"
     ]
    }
   ],
   "source": [
    "err_ids = []\n",
    "for idx in tqdm(data.index):\n",
    "    id = data.loc[idx, 'tweet_id']\n",
    "    try:\n",
    "        path = os.path.join('/home/karthiktiwari/Documents/Projects/sarcasm_detection/Data', str(idx)+'.txt')\n",
    "        if not os.path.exists(path):\n",
    "            with open(os.path.join('/home/karthiktiwari/Documents/Projects/sarcasm_detection/Data', str(idx)+'.txt'), 'w') as txt:\n",
    "                    txt.write(client.get_tweet(id=id)[0].text)\n",
    "    except:\n",
    "        err_ids.append(id)\n",
    "        continue\n",
    "        "
   ]
  },
  {
   "cell_type": "code",
   "execution_count": null,
   "metadata": {},
   "outputs": [],
   "source": []
  }
 ],
 "metadata": {
  "interpreter": {
   "hash": "916dbcbb3f70747c44a77c7bcd40155683ae19c65e1c03b4aa3499c5328201f1"
  },
  "kernelspec": {
   "display_name": "Python 3.9.5 64-bit",
   "name": "python3"
  },
  "language_info": {
   "codemirror_mode": {
    "name": "ipython",
    "version": 3
   },
   "file_extension": ".py",
   "mimetype": "text/x-python",
   "name": "python",
   "nbconvert_exporter": "python",
   "pygments_lexer": "ipython3",
   "version": "3.9.5"
  },
  "orig_nbformat": 4
 },
 "nbformat": 4,
 "nbformat_minor": 2
}
