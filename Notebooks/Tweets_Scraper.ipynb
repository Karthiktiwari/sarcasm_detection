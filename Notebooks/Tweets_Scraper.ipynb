{
 "cells": [
  {
   "cell_type": "code",
   "execution_count": 1,
   "metadata": {},
   "outputs": [],
   "source": [
    "import tweepy\n",
    "from tqdm import tqdm"
   ]
  },
  {
   "cell_type": "code",
   "execution_count": 2,
   "metadata": {},
   "outputs": [],
   "source": [
    "auth = tweepy.AppAuthHandler('SWdWp2dNXjPBxNGA4WAIvdziN', 'spgSDI4OPD7FCBt2TrdP0lKxlyui5z0h6PRCebL28e5wcb1Crd')"
   ]
  },
  {
   "cell_type": "code",
   "execution_count": 3,
   "metadata": {},
   "outputs": [],
   "source": [
    "client = tweepy.Client(bearer_token='AAAAAAAAAAAAAAAAAAAAAOVVVQEAAAAAhmny%2Fd59Dr%2FrRZRblZxZ8JUks94%3DGHoOyU7zGFWmeJzGpqqXjMEF9H7pAgc1PV1hJOOanGHxul8lQI', wait_on_rate_limit=True)"
   ]
  },
  {
   "cell_type": "code",
   "execution_count": 4,
   "metadata": {},
   "outputs": [],
   "source": [
    "import pandas as pd\n",
    "data = pd.read_csv('/home/karthiktiwari/Documents/Projects/Sarcasm_Detection/Dataset/Sarcasm_dataset.csv')"
   ]
  },
  {
   "cell_type": "code",
   "execution_count": 5,
   "metadata": {},
   "outputs": [],
   "source": [
    "sample_id = data.tweet_id[0]"
   ]
  },
  {
   "cell_type": "code",
   "execution_count": 6,
   "metadata": {},
   "outputs": [
    {
     "data": {
      "text/plain": [
       "'LOL ! \\nBC badaa gaandu hai to !\\nso jaa lodu ! Tere se kuch nahi hoga\\n@FanSalmanfan7'"
      ]
     },
     "execution_count": 6,
     "metadata": {},
     "output_type": "execute_result"
    }
   ],
   "source": [
    "client.get_tweet(id=sample_id)[0].text"
   ]
  },
  {
   "cell_type": "code",
   "execution_count": 7,
   "metadata": {},
   "outputs": [
    {
     "name": "stderr",
     "output_type": "stream",
     "text": [
      "  1%|          | 899/108241 [04:57<9:33:11,  3.12it/s]Rate limit exceeded. Sleeping for 603 seconds.\n",
      "  2%|▏         | 1799/108241 [20:31<9:50:09,  3.01it/s] Rate limit exceeded. Sleeping for 570 seconds.\n",
      "  2%|▏         | 2699/108241 [39:20<18:32:11,  1.58it/s]Rate limit exceeded. Sleeping for 343 seconds.\n",
      "  3%|▎         | 3599/108241 [50:33<10:28:22,  2.78it/s]Rate limit exceeded. Sleeping for 572 seconds.\n",
      "  4%|▍         | 4499/108241 [1:08:14<15:19:45,  1.88it/s]Rate limit exceeded. Sleeping for 413 seconds.\n",
      "  5%|▍         | 5399/108241 [1:20:32<9:13:41,  3.10it/s]Rate limit exceeded. Sleeping for 576 seconds.\n",
      "  6%|▌         | 6299/108241 [1:35:08<9:01:08,  3.14it/s]Rate limit exceeded. Sleeping for 601 seconds.\n",
      "  7%|▋         | 7199/108241 [1:52:51<14:28:32,  1.94it/s]Rate limit exceeded. Sleeping for 439 seconds.\n",
      "  7%|▋         | 8099/108241 [2:07:50<14:14:32,  1.95it/s]Rate limit exceeded. Sleeping for 442 seconds.\n",
      "  8%|▊         | 8999/108241 [2:22:56<14:04:56,  1.96it/s]Rate limit exceeded. Sleeping for 438 seconds.\n",
      "  9%|▉         | 9899/108241 [2:34:55<8:41:19,  3.14it/s]Rate limit exceeded. Sleeping for 620 seconds.\n",
      " 10%|▉         | 10799/108241 [2:50:09<8:20:10,  3.25it/s]Rate limit exceeded. Sleeping for 607 seconds.\n",
      " 11%|█         | 11699/108241 [3:07:59<11:53:43,  2.25it/s]Rate limit exceeded. Sleeping for 439 seconds.\n",
      " 12%|█▏        | 12599/108241 [3:23:57<14:50:28,  1.79it/s]Rate limit exceeded. Sleeping for 383 seconds.\n",
      " 12%|█▏        | 13499/108241 [3:35:28<8:08:46,  3.23it/s]Rate limit exceeded. Sleeping for 594 seconds.\n",
      " 13%|█▎        | 14399/108241 [3:53:32<11:58:47,  2.18it/s]Rate limit exceeded. Sleeping for 412 seconds.\n",
      " 14%|█▍        | 15299/108241 [4:09:18<15:39:36,  1.65it/s]Rate limit exceeded. Sleeping for 368 seconds.\n",
      " 15%|█▍        | 16199/108241 [4:23:07<13:10:33,  1.94it/s]Rate limit exceeded. Sleeping for 441 seconds.\n",
      " 16%|█▌        | 17099/108241 [4:40:23<7:46:34,  3.26it/s]Rate limit exceeded. Sleeping for 306 seconds.\n",
      " 17%|█▋        | 17999/108241 [4:50:27<9:31:46,  2.63it/s]Rate limit exceeded. Sleeping for 604 seconds.\n",
      " 17%|█▋        | 18899/108241 [5:08:56<12:43:32,  1.95it/s]Rate limit exceeded. Sleeping for 402 seconds.\n",
      " 18%|█▊        | 19799/108241 [5:20:23<7:34:11,  3.25it/s]Rate limit exceeded. Sleeping for 617 seconds.\n",
      " 19%|█▉        | 20699/108241 [5:38:41<12:30:29,  1.94it/s]Rate limit exceeded. Sleeping for 421 seconds.\n",
      " 20%|█▉        | 21599/108241 [5:49:43<6:50:11,  3.52it/s]Rate limit exceeded. Sleeping for 661 seconds.\n",
      " 21%|██        | 22499/108241 [6:04:44<6:12:08,  3.84it/s]Rate limit exceeded. Sleeping for 661 seconds.\n",
      " 22%|██▏       | 23399/108241 [6:20:26<7:14:54,  3.25it/s]Rate limit exceeded. Sleeping for 620 seconds.\n",
      " 22%|██▏       | 23480/108241 [6:31:12<7:16:53,  3.23it/s]"
     ]
    }
   ],
   "source": [
    "for idx in tqdm(data.index):\n",
    "    id = data.loc[idx, 'tweet_id']\n",
    "    try:\n",
    "        data.loc[idx, 'tweet'] = client.get_tweet(id=id)[0].text\n",
    "    except:\n",
    "        continue"
   ]
  },
  {
   "cell_type": "code",
   "execution_count": null,
   "metadata": {},
   "outputs": [],
   "source": [
    "data.to_csv('dataset.csv')"
   ]
  }
 ],
 "metadata": {
  "interpreter": {
   "hash": "916dbcbb3f70747c44a77c7bcd40155683ae19c65e1c03b4aa3499c5328201f1"
  },
  "kernelspec": {
   "display_name": "Python 3.9.5 64-bit",
   "name": "python3"
  },
  "language_info": {
   "codemirror_mode": {
    "name": "ipython",
    "version": 3
   },
   "file_extension": ".py",
   "mimetype": "text/x-python",
   "name": "python",
   "nbconvert_exporter": "python",
   "pygments_lexer": "ipython3",
   "version": "3.9.5"
  },
  "orig_nbformat": 4
 },
 "nbformat": 4,
 "nbformat_minor": 2
}
