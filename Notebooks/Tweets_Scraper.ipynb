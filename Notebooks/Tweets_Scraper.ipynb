{
 "cells": [
  {
   "cell_type": "code",
   "execution_count": 1,
   "metadata": {},
   "outputs": [],
   "source": [
    "import tweepy\n",
    "from tqdm import tqdm\n",
    "import os"
   ]
  },
  {
   "cell_type": "code",
   "execution_count": 2,
   "metadata": {},
   "outputs": [],
   "source": [
    "auth = tweepy.AppAuthHandler('SWdWp2dNXjPBxNGA4WAIvdziN', 'spgSDI4OPD7FCBt2TrdP0lKxlyui5z0h6PRCebL28e5wcb1Crd')"
   ]
  },
  {
   "cell_type": "code",
   "execution_count": 3,
   "metadata": {},
   "outputs": [],
   "source": [
    "client = tweepy.Client(bearer_token='AAAAAAAAAAAAAAAAAAAAAOVVVQEAAAAAhmny%2Fd59Dr%2FrRZRblZxZ8JUks94%3DGHoOyU7zGFWmeJzGpqqXjMEF9H7pAgc1PV1hJOOanGHxul8lQI', wait_on_rate_limit=True)"
   ]
  },
  {
   "cell_type": "code",
   "execution_count": 4,
   "metadata": {},
   "outputs": [],
   "source": [
    "import pandas as pd\n",
    "data = pd.read_csv('/home/karthiktiwari/Documents/Projects/Sarcasm_Detection/Dataset/Sarcasm_dataset.csv')"
   ]
  },
  {
   "cell_type": "code",
   "execution_count": 5,
   "metadata": {},
   "outputs": [],
   "source": [
    "sample_id = data.tweet_id[0]"
   ]
  },
  {
   "cell_type": "code",
   "execution_count": 6,
   "metadata": {},
   "outputs": [
    {
     "data": {
      "text/plain": [
       "'LOL ! \\nBC badaa gaandu hai to !\\nso jaa lodu ! Tere se kuch nahi hoga\\n@FanSalmanfan7'"
      ]
     },
     "execution_count": 6,
     "metadata": {},
     "output_type": "execute_result"
    }
   ],
   "source": [
    "client.get_tweet(id=sample_id)[0].text"
   ]
  },
  {
   "cell_type": "code",
   "execution_count": 7,
   "metadata": {},
   "outputs": [
    {
     "name": "stderr",
     "output_type": "stream",
     "text": [
      "  0%|          | 298/108241 [01:31<9:12:24,  3.26it/s]Rate limit exceeded. Sleeping for 752 seconds.\n",
      "  1%|          | 749/108241 [16:22<9:10:12,  3.26it/s]Rate limit exceeded. Sleeping for 763 seconds.\n",
      "  1%|          | 1199/108241 [31:23<9:08:27,  3.25it/s]Rate limit exceeded. Sleeping for 763 seconds.\n",
      "  2%|▏         | 1651/108241 [46:28<9:05:48,  3.25it/s]Rate limit exceeded. Sleeping for 759 seconds.\n",
      "  2%|▏         | 2103/108241 [1:01:26<9:02:35,  3.26it/s]Rate limit exceeded. Sleeping for 762 seconds.\n",
      "  2%|▏         | 2554/108241 [1:16:27<8:59:36,  3.26it/s]Rate limit exceeded. Sleeping for 762 seconds.\n",
      "  3%|▎         | 3004/108241 [1:31:28<9:02:10,  3.24it/s]Rate limit exceeded. Sleeping for 762 seconds.\n",
      "  3%|▎         | 3454/108241 [1:46:28<8:55:55,  3.26it/s]Rate limit exceeded. Sleeping for 763 seconds.\n",
      "  4%|▎         | 3904/108241 [2:01:30<8:55:02,  3.25it/s]Rate limit exceeded. Sleeping for 762 seconds.\n",
      "  4%|▍         | 4565/108241 [2:17:40<10:18:18,  2.79it/s]Rate limit exceeded. Sleeping for 694 seconds.\n",
      "  5%|▌         | 5465/108241 [2:33:59<9:02:59,  3.15it/s]Rate limit exceeded. Sleeping for 617 seconds.\n",
      "  6%|▌         | 6365/108241 [2:49:00<9:00:03,  3.14it/s]Rate limit exceeded. Sleeping for 618 seconds.\n"
     ]
    }
   ],
   "source": [
    "err_ids = []\n",
    "for idx in tqdm(data.index):\n",
    "    id = data.loc[idx, 'tweet_id']\n",
    "    try:\n",
    "        with open(os.path.join('/home/karthiktiwari/Documents/Projects/sarcasm_detection/Data', str(idx)+'.txt'), 'w') as txt:\n",
    "                txt.write(client.get_tweet(id=id)[0].text)\n",
    "    except:\n",
    "        err_ids.append(id)\n",
    "        continue\n",
    "        "
   ]
  },
  {
   "cell_type": "code",
   "execution_count": null,
   "metadata": {},
   "outputs": [],
   "source": []
  }
 ],
 "metadata": {
  "interpreter": {
   "hash": "916dbcbb3f70747c44a77c7bcd40155683ae19c65e1c03b4aa3499c5328201f1"
  },
  "kernelspec": {
   "display_name": "Python 3.9.5 64-bit",
   "name": "python3"
  },
  "language_info": {
   "codemirror_mode": {
    "name": "ipython",
    "version": 3
   },
   "file_extension": ".py",
   "mimetype": "text/x-python",
   "name": "python",
   "nbconvert_exporter": "python",
   "pygments_lexer": "ipython3",
   "version": "3.9.5"
  },
  "orig_nbformat": 4
 },
 "nbformat": 4,
 "nbformat_minor": 2
}
