{
 "cells": [
  {
   "cell_type": "code",
   "execution_count": 1,
   "metadata": {},
   "outputs": [],
   "source": [
    "import tweepy\n",
    "from tqdm import tqdm"
   ]
  },
  {
   "cell_type": "code",
   "execution_count": 2,
   "metadata": {},
   "outputs": [],
   "source": [
    "auth = tweepy.AppAuthHandler('SWdWp2dNXjPBxNGA4WAIvdziN', 'spgSDI4OPD7FCBt2TrdP0lKxlyui5z0h6PRCebL28e5wcb1Crd')"
   ]
  },
  {
   "cell_type": "code",
   "execution_count": 3,
   "metadata": {},
   "outputs": [],
   "source": [
    "client = tweepy.Client(bearer_token='AAAAAAAAAAAAAAAAAAAAAOVVVQEAAAAAhmny%2Fd59Dr%2FrRZRblZxZ8JUks94%3DGHoOyU7zGFWmeJzGpqqXjMEF9H7pAgc1PV1hJOOanGHxul8lQI', wait_on_rate_limit=True)"
   ]
  },
  {
   "cell_type": "code",
   "execution_count": 4,
   "metadata": {},
   "outputs": [],
   "source": [
    "import pandas as pd\n",
    "data = pd.read_csv('/home/karthiktiwari/Documents/Projects/Sarcasm_Detection/Dataset/Sarcasm_dataset.csv')"
   ]
  },
  {
   "cell_type": "code",
   "execution_count": 5,
   "metadata": {},
   "outputs": [],
   "source": [
    "sample_id = data.tweet_id[0]"
   ]
  },
  {
   "cell_type": "code",
   "execution_count": 6,
   "metadata": {},
   "outputs": [
    {
     "data": {
      "text/plain": [
       "'LOL ! \\nBC badaa gaandu hai to !\\nso jaa lodu ! Tere se kuch nahi hoga\\n@FanSalmanfan7'"
      ]
     },
     "execution_count": 6,
     "metadata": {},
     "output_type": "execute_result"
    }
   ],
   "source": [
    "client.get_tweet(id=sample_id)[0].text"
   ]
  },
  {
   "cell_type": "code",
   "execution_count": 7,
   "metadata": {},
   "outputs": [
    {
     "name": "stderr",
     "output_type": "stream",
     "text": [
      "  1%|          | 899/108241 [04:57<9:33:11,  3.12it/s]Rate limit exceeded. Sleeping for 603 seconds.\n",
      "  2%|▏         | 1799/108241 [20:31<9:50:09,  3.01it/s] Rate limit exceeded. Sleeping for 570 seconds.\n",
      "  2%|▏         | 2699/108241 [39:20<18:32:11,  1.58it/s]Rate limit exceeded. Sleeping for 343 seconds.\n",
      "  3%|▎         | 3599/108241 [50:33<10:28:22,  2.78it/s]Rate limit exceeded. Sleeping for 572 seconds.\n",
      "  4%|▍         | 4499/108241 [1:08:14<15:19:45,  1.88it/s]Rate limit exceeded. Sleeping for 413 seconds.\n",
      "  5%|▍         | 5399/108241 [1:20:32<9:13:41,  3.10it/s]Rate limit exceeded. Sleeping for 576 seconds.\n",
      "  6%|▌         | 6299/108241 [1:35:08<9:01:08,  3.14it/s]Rate limit exceeded. Sleeping for 601 seconds.\n",
      "  7%|▋         | 7199/108241 [1:52:51<14:28:32,  1.94it/s]Rate limit exceeded. Sleeping for 439 seconds.\n",
      "  7%|▋         | 8099/108241 [2:07:50<14:14:32,  1.95it/s]Rate limit exceeded. Sleeping for 442 seconds.\n",
      "  8%|▊         | 8999/108241 [2:22:56<14:04:56,  1.96it/s]Rate limit exceeded. Sleeping for 438 seconds.\n",
      "  9%|▉         | 9899/108241 [2:34:55<8:41:19,  3.14it/s]Rate limit exceeded. Sleeping for 620 seconds.\n",
      " 10%|▉         | 10799/108241 [2:50:09<8:20:10,  3.25it/s]Rate limit exceeded. Sleeping for 607 seconds.\n",
      " 11%|█         | 11699/108241 [3:07:59<11:53:43,  2.25it/s]Rate limit exceeded. Sleeping for 439 seconds.\n",
      " 12%|█▏        | 12599/108241 [3:23:57<14:50:28,  1.79it/s]Rate limit exceeded. Sleeping for 383 seconds.\n",
      " 12%|█▏        | 13499/108241 [3:35:28<8:08:46,  3.23it/s]Rate limit exceeded. Sleeping for 594 seconds.\n",
      " 13%|█▎        | 14399/108241 [3:53:32<11:58:47,  2.18it/s]Rate limit exceeded. Sleeping for 412 seconds.\n",
      " 14%|█▍        | 15299/108241 [4:09:18<15:39:36,  1.65it/s]Rate limit exceeded. Sleeping for 368 seconds.\n",
      " 15%|█▍        | 16199/108241 [4:23:07<13:10:33,  1.94it/s]Rate limit exceeded. Sleeping for 441 seconds.\n",
      " 16%|█▌        | 17099/108241 [4:40:23<7:46:34,  3.26it/s]Rate limit exceeded. Sleeping for 306 seconds.\n",
      " 17%|█▋        | 17999/108241 [4:50:27<9:31:46,  2.63it/s]Rate limit exceeded. Sleeping for 604 seconds.\n",
      " 17%|█▋        | 18899/108241 [5:08:56<12:43:32,  1.95it/s]Rate limit exceeded. Sleeping for 402 seconds.\n",
      " 18%|█▊        | 19799/108241 [5:20:23<7:34:11,  3.25it/s]Rate limit exceeded. Sleeping for 617 seconds.\n",
      " 19%|█▉        | 20699/108241 [5:38:41<12:30:29,  1.94it/s]Rate limit exceeded. Sleeping for 421 seconds.\n",
      " 20%|█▉        | 21599/108241 [5:49:43<6:50:11,  3.52it/s]Rate limit exceeded. Sleeping for 661 seconds.\n",
      " 21%|██        | 22499/108241 [6:04:44<6:12:08,  3.84it/s]Rate limit exceeded. Sleeping for 661 seconds.\n",
      " 22%|██▏       | 23399/108241 [6:20:26<7:14:54,  3.25it/s]Rate limit exceeded. Sleeping for 620 seconds.\n",
      " 22%|██▏       | 24299/108241 [6:35:27<7:42:41,  3.02it/s]Rate limit exceeded. Sleeping for 620 seconds.\n",
      " 23%|██▎       | 25199/108241 [6:50:29<7:18:25,  3.16it/s]Rate limit exceeded. Sleeping for 620 seconds.\n",
      " 24%|██▍       | 26099/108241 [7:08:30<11:39:10,  1.96it/s]Rate limit exceeded. Sleeping for 440 seconds.\n",
      " 25%|██▍       | 26999/108241 [7:24:55<13:38:57,  1.65it/s]Rate limit exceeded. Sleeping for 357 seconds.\n",
      " 26%|██▌       | 27899/108241 [7:38:35<10:56:05,  2.04it/s]Rate limit exceeded. Sleeping for 438 seconds.\n",
      " 27%|██▋       | 28799/108241 [7:50:35<6:58:53,  3.16it/s]Rate limit exceeded. Sleeping for 620 seconds.\n",
      " 27%|██▋       | 29699/108241 [8:08:38<11:10:36,  1.95it/s]Rate limit exceeded. Sleeping for 439 seconds.\n",
      " 28%|██▊       | 30599/108241 [8:24:34<11:40:20,  1.85it/s]Rate limit exceeded. Sleeping for 385 seconds.\n",
      " 29%|██▉       | 31499/108241 [8:38:40<10:55:14,  1.95it/s]Rate limit exceeded. Sleeping for 441 seconds.\n",
      " 30%|██▉       | 32399/108241 [8:53:42<10:47:01,  1.95it/s]Rate limit exceeded. Sleeping for 441 seconds.\n",
      " 31%|███       | 33299/108241 [9:05:43<6:23:23,  3.26it/s]Rate limit exceeded. Sleeping for 622 seconds.\n",
      " 32%|███▏      | 34199/108241 [9:23:47<10:31:58,  1.95it/s]Rate limit exceeded. Sleeping for 440 seconds.\n",
      " 32%|███▏      | 35099/108241 [9:38:51<10:24:32,  1.95it/s]Rate limit exceeded. Sleeping for 438 seconds.\n",
      " 33%|███▎      | 35999/108241 [9:55:05<11:37:24,  1.73it/s]Rate limit exceeded. Sleeping for 366 seconds.\n",
      " 34%|███▍      | 36899/108241 [10:08:55<9:54:24,  2.00it/s]Rate limit exceeded. Sleeping for 438 seconds.\n",
      " 35%|███▍      | 37799/108241 [10:24:38<10:59:36,  1.78it/s]Rate limit exceeded. Sleeping for 397 seconds.\n",
      " 36%|███▌      | 38699/108241 [10:35:56<5:54:51,  3.27it/s]Rate limit exceeded. Sleeping for 621 seconds.\n",
      " 37%|███▋      | 39599/108241 [10:51:01<5:59:10,  3.19it/s]Rate limit exceeded. Sleeping for 617 seconds.\n",
      " 37%|███▋      | 40499/108241 [11:06:00<6:14:33,  3.01it/s]Rate limit exceeded. Sleeping for 620 seconds.\n",
      " 38%|███▊      | 41399/108241 [11:21:02<5:49:47,  3.18it/s]Rate limit exceeded. Sleeping for 620 seconds.\n",
      " 39%|███▉      | 42299/108241 [11:39:06<9:23:28,  1.95it/s]Rate limit exceeded. Sleeping for 437 seconds.\n",
      " 40%|███▉      | 43207/108241 [12:07:57<5:32:36,  3.26it/s]Rate limit exceeded. Sleeping for 621 seconds.\n",
      " 41%|████      | 44107/108241 [12:22:59<5:29:25,  3.24it/s]Rate limit exceeded. Sleeping for 621 seconds.\n",
      " 42%|████▏     | 45007/108241 [12:41:02<8:57:36,  1.96it/s]Rate limit exceeded. Sleeping for 440 seconds.\n",
      " 42%|████▏     | 45907/108241 [12:53:00<5:18:50,  3.26it/s]Rate limit exceeded. Sleeping for 623 seconds.\n",
      " 43%|████▎     | 46807/108241 [13:08:03<5:14:05,  3.26it/s]Rate limit exceeded. Sleeping for 622 seconds.\n",
      " 44%|████▍     | 47707/108241 [13:26:08<8:36:41,  1.95it/s]Rate limit exceeded. Sleeping for 439 seconds.\n",
      " 45%|████▍     | 48607/108241 [13:41:09<8:28:51,  1.95it/s]Rate limit exceeded. Sleeping for 440 seconds.\n",
      " 46%|████▌     | 49507/108241 [13:53:11<5:00:30,  3.26it/s]Rate limit exceeded. Sleeping for 619 seconds.\n",
      " 47%|████▋     | 50407/108241 [14:11:14<8:13:00,  1.96it/s]Rate limit exceeded. Sleeping for 438 seconds.\n",
      " 47%|████▋     | 51307/108241 [14:23:12<4:54:00,  3.23it/s]Rate limit exceeded. Sleeping for 622 seconds.\n",
      " 48%|████▊     | 52207/108241 [14:41:16<7:58:08,  1.95it/s]Rate limit exceeded. Sleeping for 440 seconds.\n",
      " 49%|████▉     | 53107/108241 [14:56:20<7:25:05,  2.06it/s]Rate limit exceeded. Sleeping for 438 seconds.\n",
      " 50%|████▉     | 54007/108241 [15:12:07<8:55:10,  1.69it/s]Rate limit exceeded. Sleeping for 393 seconds.\n",
      " 51%|█████     | 54907/108241 [15:23:21<4:33:07,  3.25it/s]Rate limit exceeded. Sleeping for 620 seconds.\n",
      " 52%|█████▏    | 55807/108241 [15:41:24<7:27:41,  1.95it/s]Rate limit exceeded. Sleeping for 439 seconds.\n",
      " 52%|█████▏    | 56707/108241 [15:56:22<6:51:55,  2.09it/s]Rate limit exceeded. Sleeping for 442 seconds.\n",
      " 53%|█████▎    | 57607/108241 [16:11:29<7:12:14,  1.95it/s]Rate limit exceeded. Sleeping for 437 seconds.\n",
      " 54%|█████▍    | 58507/108241 [16:23:27<4:14:44,  3.25it/s]Rate limit exceeded. Sleeping for 620 seconds.\n",
      " 55%|█████▍    | 59407/108241 [16:38:27<4:09:44,  3.26it/s]Rate limit exceeded. Sleeping for 621 seconds.\n",
      " 56%|█████▌    | 60307/108241 [16:55:52<5:58:29,  2.23it/s]Rate limit exceeded. Sleeping for 478 seconds.\n",
      " 57%|█████▋    | 61207/108241 [17:07:59<3:38:22,  3.59it/s]Rate limit exceeded. Sleeping for 652 seconds.\n",
      " 57%|█████▋    | 62107/108241 [17:22:59<3:32:43,  3.61it/s]Rate limit exceeded. Sleeping for 653 seconds.\n",
      " 58%|█████▊    | 63007/108241 [17:40:50<6:06:20,  2.06it/s]Rate limit exceeded. Sleeping for 484 seconds.\n",
      " 59%|█████▉    | 63907/108241 [17:53:34<3:47:13,  3.25it/s]Rate limit exceeded. Sleeping for 622 seconds.\n",
      " 60%|█████▉    | 64807/108241 [18:08:35<3:42:37,  3.25it/s]Rate limit exceeded. Sleeping for 622 seconds.\n",
      " 61%|██████    | 65707/108241 [18:26:44<6:03:04,  1.95it/s]Rate limit exceeded. Sleeping for 435 seconds.\n",
      " 62%|██████▏   | 66607/108241 [18:41:43<6:02:54,  1.91it/s]Rate limit exceeded. Sleeping for 438 seconds.\n",
      " 62%|██████▏   | 67507/108241 [18:53:39<3:28:30,  3.26it/s]Rate limit exceeded. Sleeping for 624 seconds.\n",
      " 63%|██████▎   | 68407/108241 [19:08:44<3:23:46,  3.26it/s]Rate limit exceeded. Sleeping for 621 seconds.\n",
      " 64%|██████▍   | 69307/108241 [19:27:48<6:03:17,  1.79it/s]Rate limit exceeded. Sleeping for 378 seconds.\n",
      " 65%|██████▍   | 70207/108241 [19:41:49<5:27:40,  1.93it/s]Rate limit exceeded. Sleeping for 439 seconds.\n",
      " 66%|██████▌   | 71107/108241 [19:53:49<3:13:15,  3.20it/s]Rate limit exceeded. Sleeping for 621 seconds.\n",
      " 67%|██████▋   | 72007/108241 [20:11:54<5:09:15,  1.95it/s]Rate limit exceeded. Sleeping for 437 seconds.\n",
      " 67%|██████▋   | 72907/108241 [20:28:14<5:53:19,  1.67it/s]Rate limit exceeded. Sleeping for 359 seconds.\n",
      " 68%|██████▊   | 73807/108241 [20:38:55<2:58:12,  3.22it/s]Rate limit exceeded. Sleeping for 620 seconds.\n",
      " 69%|██████▉   | 74707/108241 [20:53:58<2:51:47,  3.25it/s]Rate limit exceeded. Sleeping for 619 seconds.\n",
      " 70%|██████▉   | 75607/108241 [21:08:59<2:46:58,  3.26it/s]Rate limit exceeded. Sleeping for 619 seconds.\n",
      " 71%|███████   | 76507/108241 [21:23:59<2:43:07,  3.24it/s]Rate limit exceeded. Sleeping for 620 seconds.\n",
      " 72%|███████▏  | 77408/108241 [21:55:17<2:37:49,  3.26it/s]Rate limit exceeded. Sleeping for 616 seconds.\n",
      " 72%|███████▏  | 78308/108241 [22:13:23<4:13:09,  1.97it/s]Rate limit exceeded. Sleeping for 432 seconds.\n",
      " 73%|███████▎  | 79208/108241 [22:28:22<4:09:52,  1.94it/s]Rate limit exceeded. Sleeping for 435 seconds.\n",
      " 74%|███████▍  | 80108/108241 [22:44:27<4:34:22,  1.71it/s]Rate limit exceeded. Sleeping for 372 seconds.\n",
      " 75%|███████▍  | 81008/108241 [22:55:29<2:25:09,  3.13it/s]Rate limit exceeded. Sleeping for 611 seconds.\n",
      " 76%|███████▌  | 81908/108241 [23:13:22<3:44:39,  1.95it/s]Rate limit exceeded. Sleeping for 439 seconds.\n",
      " 77%|███████▋  | 82808/108241 [23:25:33<2:20:01,  3.03it/s]Rate limit exceeded. Sleeping for 610 seconds.\n",
      " 77%|███████▋  | 83708/108241 [23:43:33<3:37:35,  1.88it/s]Rate limit exceeded. Sleeping for 431 seconds.\n",
      " 78%|███████▊  | 84608/108241 [23:55:35<2:06:58,  3.10it/s]Rate limit exceeded. Sleeping for 611 seconds.\n",
      " 79%|███████▉  | 85508/108241 [24:13:33<3:17:53,  1.91it/s]Rate limit exceeded. Sleeping for 435 seconds.\n",
      " 80%|███████▉  | 86408/108241 [24:25:38<1:54:12,  3.19it/s]Rate limit exceeded. Sleeping for 611 seconds.\n",
      " 81%|████████  | 87309/108241 [24:43:52<2:58:34,  1.95it/s]Rate limit exceeded. Sleeping for 439 seconds.\n",
      " 81%|████████▏ | 88209/108241 [24:58:54<2:52:08,  1.94it/s]Rate limit exceeded. Sleeping for 439 seconds.\n",
      " 82%|████████▏ | 89109/108241 [25:10:59<1:42:12,  3.12it/s]Rate limit exceeded. Sleeping for 615 seconds.\n",
      " 83%|████████▎ | 90009/108241 [25:28:47<2:36:03,  1.95it/s]Rate limit exceeded. Sleeping for 448 seconds.\n",
      " 84%|████████▍ | 90909/108241 [25:41:08<1:28:27,  3.27it/s]Rate limit exceeded. Sleeping for 608 seconds.\n",
      " 85%|████████▍ | 91809/108241 [25:58:59<2:31:57,  1.80it/s]Rate limit exceeded. Sleeping for 439 seconds.\n",
      " 86%|████████▌ | 92709/108241 [26:14:00<2:14:18,  1.93it/s]Rate limit exceeded. Sleeping for 440 seconds.\n",
      " 86%|████████▋ | 93609/108241 [26:28:57<2:04:44,  1.95it/s]Rate limit exceeded. Sleeping for 445 seconds.\n",
      " 87%|████████▋ | 94509/108241 [26:45:23<2:12:16,  1.73it/s]Rate limit exceeded. Sleeping for 361 seconds.\n",
      " 88%|████████▊ | 95409/108241 [26:56:10<1:05:18,  3.27it/s]Rate limit exceeded. Sleeping for 615 seconds.\n",
      " 89%|████████▉ | 96309/108241 [27:11:14<1:01:27,  3.24it/s]Rate limit exceeded. Sleeping for 612 seconds.\n",
      " 90%|████████▉ | 97209/108241 [27:26:14<59:15,  3.10it/s]  Rate limit exceeded. Sleeping for 614 seconds.\n",
      " 91%|█████████ | 98109/108241 [27:44:16<1:26:44,  1.95it/s]Rate limit exceeded. Sleeping for 434 seconds.\n",
      " 91%|█████████▏| 99009/108241 [27:56:48<49:02,  3.14it/s]Rate limit exceeded. Sleeping for 583 seconds.\n",
      " 92%|█████████▏| 99909/108241 [28:11:28<50:03,  2.77it/s]Rate limit exceeded. Sleeping for 603 seconds.\n",
      " 93%|█████████▎| 100809/108241 [28:29:15<1:03:27,  1.95it/s]Rate limit exceeded. Sleeping for 439 seconds.\n",
      " 94%|█████████▍| 101709/108241 [28:45:15<58:54,  1.85it/s]  Rate limit exceeded. Sleeping for 380 seconds.\n",
      " 95%|█████████▍| 102609/108241 [29:00:26<1:06:45,  1.41it/s]Rate limit exceeded. Sleeping for 372 seconds.\n",
      " 96%|█████████▌| 103509/108241 [29:11:29<25:40,  3.07it/s]Rate limit exceeded. Sleeping for 611 seconds.\n",
      " 96%|█████████▋| 104409/108241 [29:26:32<19:56,  3.20it/s]Rate limit exceeded. Sleeping for 609 seconds.\n",
      " 97%|█████████▋| 105309/108241 [29:44:27<26:17,  1.86it/s]Rate limit exceeded. Sleeping for 437 seconds.\n",
      " 98%|█████████▊| 106209/108241 [29:59:24<17:20,  1.95it/s]Rate limit exceeded. Sleeping for 441 seconds.\n",
      " 99%|█████████▉| 107109/108241 [30:15:28<10:55,  1.73it/s]Rate limit exceeded. Sleeping for 379 seconds.\n",
      "100%|█████████▉| 108009/108241 [30:29:30<01:49,  2.11it/s]Rate limit exceeded. Sleeping for 439 seconds.\n",
      "100%|██████████| 108241/108241 [30:38:48<00:00,  1.02s/it]\n"
     ]
    }
   ],
   "source": [
    "for idx in tqdm(data.index):\n",
    "    id = data.loc[idx, 'tweet_id']\n",
    "    try:\n",
    "        data.loc[idx, 'tweet'] = client.get_tweet(id=id)[0].text\n",
    "    except:\n",
    "        continue"
   ]
  },
  {
   "cell_type": "code",
   "execution_count": 8,
   "metadata": {},
   "outputs": [],
   "source": [
    "data.to_csv('dataset.csv')"
   ]
  },
  {
   "cell_type": "code",
   "execution_count": 16,
   "metadata": {},
   "outputs": [
    {
     "data": {
      "text/html": [
       "<div>\n",
       "<style scoped>\n",
       "    .dataframe tbody tr th:only-of-type {\n",
       "        vertical-align: middle;\n",
       "    }\n",
       "\n",
       "    .dataframe tbody tr th {\n",
       "        vertical-align: top;\n",
       "    }\n",
       "\n",
       "    .dataframe thead th {\n",
       "        text-align: right;\n",
       "    }\n",
       "</style>\n",
       "<table border=\"1\" class=\"dataframe\">\n",
       "  <thead>\n",
       "    <tr style=\"text-align: right;\">\n",
       "      <th></th>\n",
       "      <th>tweet_id</th>\n",
       "      <th>sarcastic</th>\n",
       "      <th>tweet</th>\n",
       "    </tr>\n",
       "  </thead>\n",
       "  <tbody>\n",
       "    <tr>\n",
       "      <th>0</th>\n",
       "      <td>508012297558577154</td>\n",
       "      <td>1</td>\n",
       "      <td>LOL ! \\nBC badaa gaandu hai to !\\nso jaa lodu ...</td>\n",
       "    </tr>\n",
       "    <tr>\n",
       "      <th>1</th>\n",
       "      <td>507828766161121280</td>\n",
       "      <td>0</td>\n",
       "      <td>@OFFICIAL_FC_PAK apni sakh khud sambhalen aur ...</td>\n",
       "    </tr>\n",
       "    <tr>\n",
       "      <th>2</th>\n",
       "      <td>2951021322</td>\n",
       "      <td>1</td>\n",
       "      <td>Ek aadmi pareshan ho kar Ae bhagwan aisi zinda...</td>\n",
       "    </tr>\n",
       "    <tr>\n",
       "      <th>3</th>\n",
       "      <td>2387227409649664</td>\n",
       "      <td>1</td>\n",
       "      <td>Lol RT @ThePrachi: @shrikhande Who can sing a ...</td>\n",
       "    </tr>\n",
       "    <tr>\n",
       "      <th>4</th>\n",
       "      <td>785560441963425792</td>\n",
       "      <td>1</td>\n",
       "      <td>NaN</td>\n",
       "    </tr>\n",
       "    <tr>\n",
       "      <th>...</th>\n",
       "      <td>...</td>\n",
       "      <td>...</td>\n",
       "      <td>...</td>\n",
       "    </tr>\n",
       "    <tr>\n",
       "      <th>108236</th>\n",
       "      <td>788093126841868288</td>\n",
       "      <td>0</td>\n",
       "      <td>'\\nEk Hunar Hai Jo Kar Gaya Hun Main,,\\n-\\nSab...</td>\n",
       "    </tr>\n",
       "    <tr>\n",
       "      <th>108237</th>\n",
       "      <td>974612791930712064</td>\n",
       "      <td>1</td>\n",
       "      <td>1 Jnaza Ja Raha tha Or Bhot S Log 7 Ja rahy Th...</td>\n",
       "    </tr>\n",
       "    <tr>\n",
       "      <th>108238</th>\n",
       "      <td>881421322516971520</td>\n",
       "      <td>0</td>\n",
       "      <td>@IndiaToday @mausamii2u Hmmmm 1984 ke time phe...</td>\n",
       "    </tr>\n",
       "    <tr>\n",
       "      <th>108239</th>\n",
       "      <td>601465224122630144</td>\n",
       "      <td>0</td>\n",
       "      <td>Aye Humnava Mujhe Apna Bana Le\\nSukhi Padi Dil...</td>\n",
       "    </tr>\n",
       "    <tr>\n",
       "      <th>108240</th>\n",
       "      <td>1067324889361776640</td>\n",
       "      <td>1</td>\n",
       "      <td>@dilipmandal 1:1000 H:M ke ratio me dono taraf...</td>\n",
       "    </tr>\n",
       "  </tbody>\n",
       "</table>\n",
       "<p>108241 rows × 3 columns</p>\n",
       "</div>"
      ],
      "text/plain": [
       "                   tweet_id  sarcastic  \\\n",
       "0        508012297558577154          1   \n",
       "1        507828766161121280          0   \n",
       "2                2951021322          1   \n",
       "3          2387227409649664          1   \n",
       "4        785560441963425792          1   \n",
       "...                     ...        ...   \n",
       "108236   788093126841868288          0   \n",
       "108237   974612791930712064          1   \n",
       "108238   881421322516971520          0   \n",
       "108239   601465224122630144          0   \n",
       "108240  1067324889361776640          1   \n",
       "\n",
       "                                                    tweet  \n",
       "0       LOL ! \\nBC badaa gaandu hai to !\\nso jaa lodu ...  \n",
       "1       @OFFICIAL_FC_PAK apni sakh khud sambhalen aur ...  \n",
       "2       Ek aadmi pareshan ho kar Ae bhagwan aisi zinda...  \n",
       "3       Lol RT @ThePrachi: @shrikhande Who can sing a ...  \n",
       "4                                                     NaN  \n",
       "...                                                   ...  \n",
       "108236  '\\nEk Hunar Hai Jo Kar Gaya Hun Main,,\\n-\\nSab...  \n",
       "108237  1 Jnaza Ja Raha tha Or Bhot S Log 7 Ja rahy Th...  \n",
       "108238  @IndiaToday @mausamii2u Hmmmm 1984 ke time phe...  \n",
       "108239  Aye Humnava Mujhe Apna Bana Le\\nSukhi Padi Dil...  \n",
       "108240  @dilipmandal 1:1000 H:M ke ratio me dono taraf...  \n",
       "\n",
       "[108241 rows x 3 columns]"
      ]
     },
     "execution_count": 16,
     "metadata": {},
     "output_type": "execute_result"
    }
   ],
   "source": [
    "data"
   ]
  },
  {
   "cell_type": "code",
   "execution_count": 15,
   "metadata": {},
   "outputs": [
    {
     "data": {
      "text/plain": [
       "10616"
      ]
     },
     "execution_count": 15,
     "metadata": {},
     "output_type": "execute_result"
    }
   ],
   "source": [
    "sum(data.tweet.isna()==True)"
   ]
  },
  {
   "cell_type": "code",
   "execution_count": 33,
   "metadata": {},
   "outputs": [
    {
     "data": {
      "text/plain": [
       "False"
      ]
     },
     "execution_count": 33,
     "metadata": {},
     "output_type": "execute_result"
    }
   ],
   "source": [
    "data.loc[4, 'tweet'] is pd.notna"
   ]
  },
  {
   "cell_type": "code",
   "execution_count": 37,
   "metadata": {},
   "outputs": [],
   "source": [
    "null_idxs = data.tweet.isna()"
   ]
  },
  {
   "cell_type": "code",
   "execution_count": 39,
   "metadata": {},
   "outputs": [
    {
     "name": "stderr",
     "output_type": "stream",
     "text": [
      "9611it [04:39, 21.57it/s]Rate limit exceeded. Sleeping for 621 seconds.\n",
      "9611it [04:59, 21.57it/s]"
     ]
    }
   ],
   "source": [
    "for idx,bool in tqdm(enumerate(null_idxs)):\n",
    "    if bool:\n",
    "        try:\n",
    "            data.loc[idx, 'tweet'] = client.get_tweet(id=id)[0].text\n",
    "        except:\n",
    "            continue        \n",
    "    "
   ]
  },
  {
   "cell_type": "code",
   "execution_count": null,
   "metadata": {},
   "outputs": [],
   "source": [
    "data = pd.read"
   ]
  }
 ],
 "metadata": {
  "interpreter": {
   "hash": "916dbcbb3f70747c44a77c7bcd40155683ae19c65e1c03b4aa3499c5328201f1"
  },
  "kernelspec": {
   "display_name": "Python 3.9.5 64-bit",
   "name": "python3"
  },
  "language_info": {
   "codemirror_mode": {
    "name": "ipython",
    "version": 3
   },
   "file_extension": ".py",
   "mimetype": "text/x-python",
   "name": "python",
   "nbconvert_exporter": "python",
   "pygments_lexer": "ipython3",
   "version": "3.9.5"
  },
  "orig_nbformat": 4
 },
 "nbformat": 4,
 "nbformat_minor": 2
}
