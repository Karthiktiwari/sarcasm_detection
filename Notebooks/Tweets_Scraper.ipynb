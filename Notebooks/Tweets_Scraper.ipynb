{
 "cells": [
  {
   "cell_type": "code",
   "execution_count": 1,
   "metadata": {},
   "outputs": [],
   "source": [
    "import tweepy\n",
    "from tqdm import tqdm\n",
    "import os"
   ]
  },
  {
   "cell_type": "code",
   "execution_count": 7,
   "metadata": {},
   "outputs": [],
   "source": [
    "auth = tweepy.AppAuthHandler('SWdWp2dNXjPBxNGA4WAIvdziN', 'spgSDI4OPD7FCBt2TrdP0lKxlyui5z0h6PRCebL28e5wcb1Crd')"
   ]
  },
  {
   "cell_type": "code",
   "execution_count": 8,
   "metadata": {},
   "outputs": [],
   "source": [
    "client = tweepy.Client(bearer_token='AAAAAAAAAAAAAAAAAAAAAOVVVQEAAAAAhmny%2Fd59Dr%2FrRZRblZxZ8JUks94%3DGHoOyU7zGFWmeJzGpqqXjMEF9H7pAgc1PV1hJOOanGHxul8lQI', wait_on_rate_limit=True)"
   ]
  },
  {
   "cell_type": "code",
   "execution_count": 18,
   "metadata": {},
   "outputs": [],
   "source": [
    "import pandas as pd\n",
    "data = pd.read_csv('/home/karthiktiwari/Documents/Projects/Sarcasm_Detection/Dataset/Sarcasm_dataset.csv')"
   ]
  },
  {
   "cell_type": "code",
   "execution_count": 5,
   "metadata": {},
   "outputs": [],
   "source": [
    "sample_id = data.tweet_id[0]"
   ]
  },
  {
   "cell_type": "code",
   "execution_count": 6,
   "metadata": {},
   "outputs": [
    {
     "data": {
      "text/plain": [
       "'LOL ! \\nBC badaa gaandu hai to !\\nso jaa lodu ! Tere se kuch nahi hoga\\n@FanSalmanfan7'"
      ]
     },
     "execution_count": 6,
     "metadata": {},
     "output_type": "execute_result"
    }
   ],
   "source": [
    "client.get_tweet(id=sample_id)[0].text"
   ]
  },
  {
   "cell_type": "code",
   "execution_count": 28,
   "metadata": {},
   "outputs": [
    {
     "data": {
      "text/plain": [
       "True"
      ]
     },
     "execution_count": 28,
     "metadata": {},
     "output_type": "execute_result"
    }
   ],
   "source": [
    "len(data)==len(os.listdir(root))"
   ]
  },
  {
   "cell_type": "code",
   "execution_count": 8,
   "metadata": {},
   "outputs": [
    {
     "name": "stderr",
     "output_type": "stream",
     "text": [
      " 19%|█▊        | 20263/108241 [04:39<7:31:30,  3.25it/s]Rate limit exceeded. Sleeping for 621 seconds.\n",
      " 20%|█▉        | 21164/108241 [19:41<7:25:31,  3.26it/s]Rate limit exceeded. Sleeping for 620 seconds.\n",
      " 20%|██        | 22064/108241 [34:43<7:50:53,  3.05it/s]Rate limit exceeded. Sleeping for 619 seconds.\n",
      " 21%|██        | 22964/108241 [53:37<14:10:32,  1.67it/s]Rate limit exceeded. Sleeping for 387 seconds.\n",
      " 22%|██▏       | 23864/108241 [1:04:48<7:11:50,  3.26it/s]Rate limit exceeded. Sleeping for 617 seconds.\n",
      " 23%|██▎       | 24764/108241 [1:19:48<7:58:28,  2.91it/s]Rate limit exceeded. Sleeping for 618 seconds.\n",
      " 24%|██▎       | 25664/108241 [1:37:44<11:39:19,  1.97it/s]Rate limit exceeded. Sleeping for 444 seconds.\n",
      " 25%|██▍       | 26564/108241 [1:53:31<11:40:59,  1.94it/s]Rate limit exceeded. Sleeping for 399 seconds.\n",
      " 25%|██▌       | 27464/108241 [2:07:45<11:28:35,  1.96it/s]Rate limit exceeded. Sleeping for 448 seconds.\n",
      " 26%|██▌       | 28364/108241 [2:22:50<11:03:29,  2.01it/s]Rate limit exceeded. Sleeping for 445 seconds.\n",
      " 27%|██▋       | 29264/108241 [2:37:52<11:13:47,  1.95it/s]Rate limit exceeded. Sleeping for 444 seconds.\n",
      " 28%|██▊       | 30164/108241 [2:52:56<11:01:29,  1.97it/s]Rate limit exceeded. Sleeping for 443 seconds.\n",
      " 29%|██▊       | 31064/108241 [3:04:58<6:35:07,  3.26it/s]Rate limit exceeded. Sleeping for 622 seconds.\n"
     ]
    }
   ],
   "source": [
    "err_ids = []\n",
    "for idx in tqdm(data.index):\n",
    "    id = data.loc[idx, 'tweet_id']\n",
    "    try:\n",
    "        path = os.path.join('/home/karthiktiwari/Documents/Projects/sarcasm_detection/Data', str(idx)+'.txt')\n",
    "        if not os.path.exists(path):\n",
    "            with open(os.path.join('/home/karthiktiwari/Documents/Projects/sarcasm_detection/Data', str(idx)+'.txt'), 'w') as txt:\n",
    "                    txt.write(client.get_tweet(id=id)[0].text)\n",
    "    except:\n",
    "        err_ids.append(id)\n",
    "        continue\n",
    "        "
   ]
  },
  {
   "cell_type": "code",
   "execution_count": 5,
   "metadata": {},
   "outputs": [
    {
     "data": {
      "text/plain": [
       "[974568141844971520,\n",
       " 1161756728167288832,\n",
       " 15251368113,\n",
       " 1068045181172236288,\n",
       " 1162389366611881984,\n",
       " 783728599899578368,\n",
       " 1255139255027785730,\n",
       " 134657296096690177,\n",
       " 41079524024258560,\n",
       " 1045379473556803584]"
      ]
     },
     "execution_count": 5,
     "metadata": {},
     "output_type": "execute_result"
    }
   ],
   "source": [
    "with open('../err_ids.txt') as ids:\n",
    "    err_ids = [int(i) for i in ids.readlines()]\n",
    "err_ids[:10]"
   ]
  },
  {
   "cell_type": "code",
   "execution_count": 6,
   "metadata": {},
   "outputs": [],
   "source": [
    "import GetOldTweets3 as got"
   ]
  },
  {
   "cell_type": "code",
   "execution_count": null,
   "metadata": {},
   "outputs": [],
   "source": [
    "tweetmanager = got.manager."
   ]
  },
  {
   "cell_type": "code",
   "execution_count": 14,
   "metadata": {},
   "outputs": [
    {
     "data": {
      "text/plain": [
       "Response(data=None, includes={}, errors=[{'value': '974568141844971520', 'detail': 'Could not find tweet with id: [974568141844971520].', 'title': 'Not Found Error', 'resource_type': 'tweet', 'parameter': 'id', 'resource_id': '974568141844971520', 'type': 'https://api.twitter.com/2/problems/resource-not-found'}], meta={})"
      ]
     },
     "execution_count": 14,
     "metadata": {},
     "output_type": "execute_result"
    }
   ],
   "source": [
    "client.get_tweet(id= err_ids[0])"
   ]
  },
  {
   "cell_type": "code",
   "execution_count": 19,
   "metadata": {},
   "outputs": [
    {
     "data": {
      "text/plain": [
       "Index(['tweet_id', 'sarcastic'], dtype='object')"
      ]
     },
     "execution_count": 19,
     "metadata": {},
     "output_type": "execute_result"
    }
   ],
   "source": [
    "data.columns"
   ]
  },
  {
   "cell_type": "code",
   "execution_count": 72,
   "metadata": {},
   "outputs": [],
   "source": [
    "root = '/home/karthiktiwari/Data/Sarcasm Detection'\n",
    "empty_fn = []\n",
    "empty_id = []\n",
    "for idx,txt_file in enumerate(os.listdir(root)):\n",
    "    with open(os.path.join(root, txt_file), 'r') as tweet:\n",
    "        temp = tweet.read()\n",
    "        if len(temp)==0:\n",
    "            tweet_id = data.loc[idx, 'tweet_id']\n",
    "            empty_id.append(tweet_id)\n",
    "            empty_fn.append(txt_file)\n",
    "            "
   ]
  },
  {
   "cell_type": "code",
   "execution_count": 74,
   "metadata": {},
   "outputs": [
    {
     "data": {
      "text/plain": [
       "True"
      ]
     },
     "execution_count": 74,
     "metadata": {},
     "output_type": "execute_result"
    }
   ],
   "source": [
    "with open"
   ]
  },
  {
   "cell_type": "code",
   "execution_count": 87,
   "metadata": {},
   "outputs": [
    {
     "name": "stderr",
     "output_type": "stream",
     "text": [
      "  3%|▎         | 300/10735 [01:55<1:17:48,  2.24it/s]Rate limit exceeded. Sleeping for 786 seconds.\n",
      "  6%|▌         | 600/10735 [17:29<1:01:26,  2.75it/s]Rate limit exceeded. Sleeping for 754 seconds.\n",
      "  8%|▊         | 900/10735 [31:49<56:57,  2.88it/s]Rate limit exceeded. Sleeping for 795 seconds.\n",
      " 11%|█         | 1200/10735 [46:47<55:01,  2.89it/s]Rate limit exceeded. Sleeping for 798 seconds.\n",
      " 14%|█▍        | 1500/10735 [1:01:47<56:04,  2.75it/s]  Rate limit exceeded. Sleeping for 800 seconds.\n"
     ]
    }
   ],
   "source": [
    "err_ids = []\n",
    "for idx in tqdm(range(len(empty_fn))):\n",
    "    try:\n",
    "        filename = os.path.join('/home/karthiktiwari/Data/Sarcasm Detection', empty_fn[idx])\n",
    "        with open(filename, 'w') as txt:\n",
    "                txt.write(client.get_tweet(id=empty_id[idx])[0].text)\n",
    "    except:\n",
    "        err_ids.append(empty_id[idx])\n",
    "        continue\n",
    "        "
   ]
  },
  {
   "cell_type": "code",
   "execution_count": null,
   "metadata": {},
   "outputs": [],
   "source": []
  }
 ],
 "metadata": {
  "interpreter": {
   "hash": "916dbcbb3f70747c44a77c7bcd40155683ae19c65e1c03b4aa3499c5328201f1"
  },
  "kernelspec": {
   "display_name": "Python 3.9.5 64-bit",
   "name": "python3"
  },
  "language_info": {
   "codemirror_mode": {
    "name": "ipython",
    "version": 3
   },
   "file_extension": ".py",
   "mimetype": "text/x-python",
   "name": "python",
   "nbconvert_exporter": "python",
   "pygments_lexer": "ipython3",
   "version": "3.9.5"
  },
  "orig_nbformat": 4
 },
 "nbformat": 4,
 "nbformat_minor": 2
}
